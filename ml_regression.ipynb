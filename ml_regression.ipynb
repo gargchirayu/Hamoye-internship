{
  "nbformat": 4,
  "nbformat_minor": 0,
  "metadata": {
    "colab": {
      "name": "ml-regression.ipynb",
      "provenance": [],
      "authorship_tag": "ABX9TyOAEUXjSgXDC9SYkBZIxJBR"
    },
    "kernelspec": {
      "name": "python3",
      "display_name": "Python 3"
    },
    "language_info": {
      "name": "python"
    }
  },
  "cells": [
    {
      "cell_type": "code",
      "metadata": {
        "id": "EnQLkx24Iiqh"
      },
      "source": [
        "import numpy as np\n",
        "import pandas as pd\n",
        "import matplotlib.pyplot as plt\n",
        "import seaborn as sns\n",
        "sns.set()"
      ],
      "execution_count": 1,
      "outputs": []
    },
    {
      "cell_type": "code",
      "metadata": {
        "id": "TNTyMbmKIulg"
      },
      "source": [
        "data = pd.read_csv('https://archive.ics.uci.edu/ml/machine-learning-databases/00374/energydata_complete.csv')"
      ],
      "execution_count": 2,
      "outputs": []
    },
    {
      "cell_type": "code",
      "metadata": {
        "colab": {
          "base_uri": "https://localhost:8080/"
        },
        "id": "apUyqL2jI0TM",
        "outputId": "8078bb37-e608-42d3-c300-082c5fd40b21"
      },
      "source": [
        "data.columns"
      ],
      "execution_count": 3,
      "outputs": [
        {
          "output_type": "execute_result",
          "data": {
            "text/plain": [
              "Index(['date', 'Appliances', 'lights', 'T1', 'RH_1', 'T2', 'RH_2', 'T3',\n",
              "       'RH_3', 'T4', 'RH_4', 'T5', 'RH_5', 'T6', 'RH_6', 'T7', 'RH_7', 'T8',\n",
              "       'RH_8', 'T9', 'RH_9', 'T_out', 'Press_mm_hg', 'RH_out', 'Windspeed',\n",
              "       'Visibility', 'Tdewpoint', 'rv1', 'rv2'],\n",
              "      dtype='object')"
            ]
          },
          "metadata": {},
          "execution_count": 3
        }
      ]
    },
    {
      "cell_type": "code",
      "metadata": {
        "id": "x7y0CnYZI3Un"
      },
      "source": [
        "columns = {'T1':'Temperature in kitchen area',\n",
        "'RH_1':'Humidity in kitchen area',\n",
        "'T2':'Temperature in living room area',\n",
        "'RH_2':'Humidity in living room area',\n",
        "'T3':'Temperature in laundry room area',\n",
        "'RH_3':'Humidity in laundry room area',\n",
        "'T4':'Temperature in office room',\n",
        "'RH_4':'Humidity in office room',\n",
        "'T5':'Temperature in bathroom',\n",
        "'RH_5':'Humidity in bathroom',\n",
        "'T6':'Temperature outside the building',\n",
        "'RH_6':'Humidity outside the building',\n",
        "'T7':'Temperature in ironing room',\n",
        "'RH_7':'Humidity in ironing room',\n",
        "'T8':'Temperature in teenager room 2',\n",
        "'RH_8':'Humidity in teenager room 2',\n",
        "'T9':'Temperature in parents room',\n",
        "'RH_9':'Humidity in parents room',\n",
        "'To':'Temperature outside',\n",
        "'RH_out':'Humidity outside',\n",
        "}"
      ],
      "execution_count": 4,
      "outputs": []
    },
    {
      "cell_type": "code",
      "metadata": {
        "id": "sp_u8denKMlm"
      },
      "source": [
        "data = data.rename(columns=columns)"
      ],
      "execution_count": 5,
      "outputs": []
    },
    {
      "cell_type": "code",
      "metadata": {
        "colab": {
          "base_uri": "https://localhost:8080/"
        },
        "id": "32Bvil2fKNOt",
        "outputId": "baa54cc5-ee44-422e-d8d3-2b51d90780c3"
      },
      "source": [
        "data.columns"
      ],
      "execution_count": 6,
      "outputs": [
        {
          "output_type": "execute_result",
          "data": {
            "text/plain": [
              "Index(['date', 'Appliances', 'lights', 'Temperature in kitchen area',\n",
              "       'Humidity in kitchen area', 'Temperature in living room area',\n",
              "       'Humidity in living room area', 'Temperature in laundry room area',\n",
              "       'Humidity in laundry room area', 'Temperature in office room',\n",
              "       'Humidity in office room', 'Temperature in bathroom',\n",
              "       'Humidity in bathroom', 'Temperature outside the building',\n",
              "       'Humidity outside the building', 'Temperature in ironing room',\n",
              "       'Humidity in ironing room', 'Temperature in teenager room 2',\n",
              "       'Humidity in teenager room 2', 'Temperature in parents room',\n",
              "       'Humidity in parents room', 'T_out', 'Press_mm_hg', 'Humidity outside',\n",
              "       'Windspeed', 'Visibility', 'Tdewpoint', 'rv1', 'rv2'],\n",
              "      dtype='object')"
            ]
          },
          "metadata": {},
          "execution_count": 6
        }
      ]
    },
    {
      "cell_type": "code",
      "metadata": {
        "id": "URpv-J-YKOeJ"
      },
      "source": [
        "data_clean = data.drop(columns=['date','lights'])"
      ],
      "execution_count": 7,
      "outputs": []
    },
    {
      "cell_type": "code",
      "metadata": {
        "id": "_PRPt8e0Ka-R"
      },
      "source": [
        "from sklearn.preprocessing import MinMaxScaler\n",
        "scaler = MinMaxScaler()\n",
        "normal_data = pd.DataFrame(scaler.fit_transform(data_clean), columns=data_clean.columns)"
      ],
      "execution_count": 9,
      "outputs": []
    },
    {
      "cell_type": "code",
      "metadata": {
        "id": "Siut_1QQKj3P"
      },
      "source": [
        "features_data = normal_data.drop(columns=['Appliances'])\n",
        "heating_target = normal_data['Appliances']"
      ],
      "execution_count": 10,
      "outputs": []
    },
    {
      "cell_type": "code",
      "metadata": {
        "id": "GHeWq8Q5K9-5"
      },
      "source": [
        "from sklearn.model_selection import train_test_split\n",
        "x_train, x_test, y_train, y_test = train_test_split(features_data, heating_target, test_size=0.3, random_state=42)"
      ],
      "execution_count": 12,
      "outputs": []
    },
    {
      "cell_type": "code",
      "metadata": {
        "colab": {
          "base_uri": "https://localhost:8080/"
        },
        "id": "a_UfMdK4LZLo",
        "outputId": "c7be27f3-fc36-44be-e876-e974439a2037"
      },
      "source": [
        "from sklearn.linear_model import LinearRegression\n",
        "lin_reg = LinearRegression()\n",
        "lin_reg.fit(x_train, y_train)"
      ],
      "execution_count": 38,
      "outputs": [
        {
          "output_type": "execute_result",
          "data": {
            "text/plain": [
              "LinearRegression(copy_X=True, fit_intercept=True, n_jobs=None, normalize=False)"
            ]
          },
          "metadata": {},
          "execution_count": 38
        }
      ]
    },
    {
      "cell_type": "code",
      "metadata": {
        "id": "upcB9f1ALo-0"
      },
      "source": [
        "predicted = lin_reg.predict(x_test)"
      ],
      "execution_count": 39,
      "outputs": []
    },
    {
      "cell_type": "code",
      "metadata": {
        "id": "sxCCCLWFLv4P"
      },
      "source": [
        "temp_livingroom = data[['Temperature in living room area']]\n",
        "temp_outside = data[['Temperature outside the building']]"
      ],
      "execution_count": 16,
      "outputs": []
    },
    {
      "cell_type": "code",
      "metadata": {
        "id": "BQ-x7_MLO1lN"
      },
      "source": [
        "lr_train, lr_test, out_train, out_test = train_test_split(temp_livingroom, temp_outside, test_size=0.3, random_state=42)"
      ],
      "execution_count": 17,
      "outputs": []
    },
    {
      "cell_type": "code",
      "metadata": {
        "colab": {
          "base_uri": "https://localhost:8080/"
        },
        "id": "_k85gqnTPLtU",
        "outputId": "4e4558dd-bdc7-47af-9d81-d7a72bbfadc0"
      },
      "source": [
        "lin_reg.fit(lr_train, out_train)"
      ],
      "execution_count": 18,
      "outputs": [
        {
          "output_type": "execute_result",
          "data": {
            "text/plain": [
              "LinearRegression(copy_X=True, fit_intercept=True, n_jobs=None, normalize=False)"
            ]
          },
          "metadata": {},
          "execution_count": 18
        }
      ]
    },
    {
      "cell_type": "code",
      "metadata": {
        "id": "q9fIDcaUPRIU"
      },
      "source": [
        "predict_outside = lin_reg.predict(lr_test)"
      ],
      "execution_count": 19,
      "outputs": []
    },
    {
      "cell_type": "code",
      "metadata": {
        "colab": {
          "base_uri": "https://localhost:8080/"
        },
        "id": "3vDyAq59PXmE",
        "outputId": "b4221e7d-00a1-46cc-fb3e-33b19ad94489"
      },
      "source": [
        "from sklearn.metrics import r2_score\n",
        "r2_out = r2_score(out_test, predict_outside)\n",
        "round(r2_out, 2)"
      ],
      "execution_count": 22,
      "outputs": [
        {
          "output_type": "execute_result",
          "data": {
            "text/plain": [
              "0.64"
            ]
          },
          "metadata": {},
          "execution_count": 22
        }
      ]
    },
    {
      "cell_type": "code",
      "metadata": {
        "colab": {
          "base_uri": "https://localhost:8080/"
        },
        "id": "rhEE0ckxPkH7",
        "outputId": "923fb65b-d9b5-4ccd-c3d8-6ce7bef3d939"
      },
      "source": [
        "from sklearn.metrics import mean_absolute_error\n",
        "mae = mean_absolute_error(y_test, predicted)\n",
        "round(mae, 2)"
      ],
      "execution_count": 33,
      "outputs": [
        {
          "output_type": "execute_result",
          "data": {
            "text/plain": [
              "0.05"
            ]
          },
          "metadata": {},
          "execution_count": 33
        }
      ]
    },
    {
      "cell_type": "code",
      "metadata": {
        "colab": {
          "base_uri": "https://localhost:8080/"
        },
        "id": "EoPen_GsPzGC",
        "outputId": "dc4ec16e-14e7-4bf5-aa45-3d6149c48d91"
      },
      "source": [
        "rss = np.sum(np.square(y_test - predicted))\n",
        "round(rss,2)"
      ],
      "execution_count": 34,
      "outputs": [
        {
          "output_type": "execute_result",
          "data": {
            "text/plain": [
              "45.35"
            ]
          },
          "metadata": {},
          "execution_count": 34
        }
      ]
    },
    {
      "cell_type": "code",
      "metadata": {
        "colab": {
          "base_uri": "https://localhost:8080/"
        },
        "id": "ZUe3zWKKP_kG",
        "outputId": "b1d6dadc-e723-4514-f22c-babf73064dae"
      },
      "source": [
        "from sklearn.metrics import mean_squared_error\n",
        "rmse = np.sqrt(mean_squared_error(y_test, predicted))\n",
        "print(round(rmse, 3))"
      ],
      "execution_count": 32,
      "outputs": [
        {
          "output_type": "stream",
          "name": "stdout",
          "text": [
            "0.088\n"
          ]
        }
      ]
    },
    {
      "cell_type": "code",
      "metadata": {
        "colab": {
          "base_uri": "https://localhost:8080/"
        },
        "id": "grhvRaGQQeV6",
        "outputId": "3b3ad479-76ea-4885-a57c-16cda8695157"
      },
      "source": [
        "r2 = r2_score(y_test, predicted)\n",
        "round(r2, 2)"
      ],
      "execution_count": 35,
      "outputs": [
        {
          "output_type": "execute_result",
          "data": {
            "text/plain": [
              "0.15"
            ]
          },
          "metadata": {},
          "execution_count": 35
        }
      ]
    },
    {
      "cell_type": "code",
      "metadata": {
        "id": "YGnhu5LSR7Gl"
      },
      "source": [
        "def get_weights(model, feature, column):\n",
        "  weights = pd.Series(model.coef_, feature.columns).sort_values()\n",
        "  weights_df = pd.DataFrame(weights).reset_index()\n",
        "  weights_df.columns = ['Features', column]\n",
        "  weights_df[column].round(3)\n",
        "  return weights_df\n",
        "\n",
        "lin_weights = get_weights(lin_reg, x_train, 'Linear_Model_Weight')"
      ],
      "execution_count": 41,
      "outputs": []
    },
    {
      "cell_type": "code",
      "metadata": {
        "colab": {
          "base_uri": "https://localhost:8080/",
          "height": 855
        },
        "id": "OcLX74ogSj8v",
        "outputId": "df880e20-246c-4094-f566-333a8a4edc1b"
      },
      "source": [
        "lin_weights"
      ],
      "execution_count": 42,
      "outputs": [
        {
          "output_type": "execute_result",
          "data": {
            "text/html": [
              "<div>\n",
              "<style scoped>\n",
              "    .dataframe tbody tr th:only-of-type {\n",
              "        vertical-align: middle;\n",
              "    }\n",
              "\n",
              "    .dataframe tbody tr th {\n",
              "        vertical-align: top;\n",
              "    }\n",
              "\n",
              "    .dataframe thead th {\n",
              "        text-align: right;\n",
              "    }\n",
              "</style>\n",
              "<table border=\"1\" class=\"dataframe\">\n",
              "  <thead>\n",
              "    <tr style=\"text-align: right;\">\n",
              "      <th></th>\n",
              "      <th>Features</th>\n",
              "      <th>Linear_Model_Weight</th>\n",
              "    </tr>\n",
              "  </thead>\n",
              "  <tbody>\n",
              "    <tr>\n",
              "      <th>0</th>\n",
              "      <td>Humidity in living room area</td>\n",
              "      <td>-0.456698</td>\n",
              "    </tr>\n",
              "    <tr>\n",
              "      <th>1</th>\n",
              "      <td>T_out</td>\n",
              "      <td>-0.321860</td>\n",
              "    </tr>\n",
              "    <tr>\n",
              "      <th>2</th>\n",
              "      <td>Temperature in living room area</td>\n",
              "      <td>-0.236178</td>\n",
              "    </tr>\n",
              "    <tr>\n",
              "      <th>3</th>\n",
              "      <td>Temperature in parents room</td>\n",
              "      <td>-0.189941</td>\n",
              "    </tr>\n",
              "    <tr>\n",
              "      <th>4</th>\n",
              "      <td>Humidity in teenager room 2</td>\n",
              "      <td>-0.157595</td>\n",
              "    </tr>\n",
              "    <tr>\n",
              "      <th>5</th>\n",
              "      <td>Humidity outside</td>\n",
              "      <td>-0.077671</td>\n",
              "    </tr>\n",
              "    <tr>\n",
              "      <th>6</th>\n",
              "      <td>Humidity in ironing room</td>\n",
              "      <td>-0.044614</td>\n",
              "    </tr>\n",
              "    <tr>\n",
              "      <th>7</th>\n",
              "      <td>Humidity in parents room</td>\n",
              "      <td>-0.039800</td>\n",
              "    </tr>\n",
              "    <tr>\n",
              "      <th>8</th>\n",
              "      <td>Temperature in bathroom</td>\n",
              "      <td>-0.015657</td>\n",
              "    </tr>\n",
              "    <tr>\n",
              "      <th>9</th>\n",
              "      <td>Temperature in kitchen area</td>\n",
              "      <td>-0.003281</td>\n",
              "    </tr>\n",
              "    <tr>\n",
              "      <th>10</th>\n",
              "      <td>rv1</td>\n",
              "      <td>0.000770</td>\n",
              "    </tr>\n",
              "    <tr>\n",
              "      <th>11</th>\n",
              "      <td>rv2</td>\n",
              "      <td>0.000770</td>\n",
              "    </tr>\n",
              "    <tr>\n",
              "      <th>12</th>\n",
              "      <td>Press_mm_hg</td>\n",
              "      <td>0.006839</td>\n",
              "    </tr>\n",
              "    <tr>\n",
              "      <th>13</th>\n",
              "      <td>Temperature in ironing room</td>\n",
              "      <td>0.010319</td>\n",
              "    </tr>\n",
              "    <tr>\n",
              "      <th>14</th>\n",
              "      <td>Visibility</td>\n",
              "      <td>0.012307</td>\n",
              "    </tr>\n",
              "    <tr>\n",
              "      <th>15</th>\n",
              "      <td>Humidity in bathroom</td>\n",
              "      <td>0.016006</td>\n",
              "    </tr>\n",
              "    <tr>\n",
              "      <th>16</th>\n",
              "      <td>Humidity in office room</td>\n",
              "      <td>0.026386</td>\n",
              "    </tr>\n",
              "    <tr>\n",
              "      <th>17</th>\n",
              "      <td>Temperature in office room</td>\n",
              "      <td>0.028981</td>\n",
              "    </tr>\n",
              "    <tr>\n",
              "      <th>18</th>\n",
              "      <td>Windspeed</td>\n",
              "      <td>0.029183</td>\n",
              "    </tr>\n",
              "    <tr>\n",
              "      <th>19</th>\n",
              "      <td>Humidity outside the building</td>\n",
              "      <td>0.038049</td>\n",
              "    </tr>\n",
              "    <tr>\n",
              "      <th>20</th>\n",
              "      <td>Humidity in laundry room area</td>\n",
              "      <td>0.096048</td>\n",
              "    </tr>\n",
              "    <tr>\n",
              "      <th>21</th>\n",
              "      <td>Temperature in teenager room 2</td>\n",
              "      <td>0.101995</td>\n",
              "    </tr>\n",
              "    <tr>\n",
              "      <th>22</th>\n",
              "      <td>Tdewpoint</td>\n",
              "      <td>0.117758</td>\n",
              "    </tr>\n",
              "    <tr>\n",
              "      <th>23</th>\n",
              "      <td>Temperature outside the building</td>\n",
              "      <td>0.236425</td>\n",
              "    </tr>\n",
              "    <tr>\n",
              "      <th>24</th>\n",
              "      <td>Temperature in laundry room area</td>\n",
              "      <td>0.290627</td>\n",
              "    </tr>\n",
              "    <tr>\n",
              "      <th>25</th>\n",
              "      <td>Humidity in kitchen area</td>\n",
              "      <td>0.553547</td>\n",
              "    </tr>\n",
              "  </tbody>\n",
              "</table>\n",
              "</div>"
            ],
            "text/plain": [
              "                            Features  Linear_Model_Weight\n",
              "0       Humidity in living room area            -0.456698\n",
              "1                              T_out            -0.321860\n",
              "2    Temperature in living room area            -0.236178\n",
              "3        Temperature in parents room            -0.189941\n",
              "4        Humidity in teenager room 2            -0.157595\n",
              "5                   Humidity outside            -0.077671\n",
              "6           Humidity in ironing room            -0.044614\n",
              "7           Humidity in parents room            -0.039800\n",
              "8            Temperature in bathroom            -0.015657\n",
              "9        Temperature in kitchen area            -0.003281\n",
              "10                               rv1             0.000770\n",
              "11                               rv2             0.000770\n",
              "12                       Press_mm_hg             0.006839\n",
              "13       Temperature in ironing room             0.010319\n",
              "14                        Visibility             0.012307\n",
              "15              Humidity in bathroom             0.016006\n",
              "16           Humidity in office room             0.026386\n",
              "17        Temperature in office room             0.028981\n",
              "18                         Windspeed             0.029183\n",
              "19     Humidity outside the building             0.038049\n",
              "20     Humidity in laundry room area             0.096048\n",
              "21    Temperature in teenager room 2             0.101995\n",
              "22                         Tdewpoint             0.117758\n",
              "23  Temperature outside the building             0.236425\n",
              "24  Temperature in laundry room area             0.290627\n",
              "25          Humidity in kitchen area             0.553547"
            ]
          },
          "metadata": {},
          "execution_count": 42
        }
      ]
    },
    {
      "cell_type": "code",
      "metadata": {
        "colab": {
          "base_uri": "https://localhost:8080/"
        },
        "id": "JnEvEUG0Tn9j",
        "outputId": "463e9717-101b-4726-fbc3-0b12e0091049"
      },
      "source": [
        "from sklearn.linear_model import Ridge\n",
        "ridge_reg = Ridge(alpha = 0.4)\n",
        "ridge_reg.fit(x_train, y_train)"
      ],
      "execution_count": 43,
      "outputs": [
        {
          "output_type": "execute_result",
          "data": {
            "text/plain": [
              "Ridge(alpha=0.4, copy_X=True, fit_intercept=True, max_iter=None,\n",
              "      normalize=False, random_state=None, solver='auto', tol=0.001)"
            ]
          },
          "metadata": {},
          "execution_count": 43
        }
      ]
    },
    {
      "cell_type": "code",
      "metadata": {
        "id": "Y1r_OCM8T27U"
      },
      "source": [
        "ridge_predict = ridge_reg.predict(x_test)"
      ],
      "execution_count": 44,
      "outputs": []
    },
    {
      "cell_type": "code",
      "metadata": {
        "colab": {
          "base_uri": "https://localhost:8080/"
        },
        "id": "Ygm0-n_GUEXi",
        "outputId": "6e2bca18-3b95-4d13-f2eb-faccdce14f68"
      },
      "source": [
        "rmse_ridge = np.sqrt(mean_squared_error(y_test, ridge_predict))\n",
        "print(round(rmse_ridge, 3))"
      ],
      "execution_count": 50,
      "outputs": [
        {
          "output_type": "stream",
          "name": "stdout",
          "text": [
            "0.088\n"
          ]
        }
      ]
    },
    {
      "cell_type": "code",
      "metadata": {
        "colab": {
          "base_uri": "https://localhost:8080/"
        },
        "id": "yURr3pxiUMlz",
        "outputId": "1950d4c6-76df-4860-a5a0-320dfce487ec"
      },
      "source": [
        "from sklearn.linear_model import Lasso\n",
        "lasso_reg = Lasso(alpha=0.001)\n",
        "lasso_reg.fit(x_train, y_train)"
      ],
      "execution_count": 46,
      "outputs": [
        {
          "output_type": "execute_result",
          "data": {
            "text/plain": [
              "Lasso(alpha=0.001, copy_X=True, fit_intercept=True, max_iter=1000,\n",
              "      normalize=False, positive=False, precompute=False, random_state=None,\n",
              "      selection='cyclic', tol=0.0001, warm_start=False)"
            ]
          },
          "metadata": {},
          "execution_count": 46
        }
      ]
    },
    {
      "cell_type": "code",
      "metadata": {
        "id": "KYO6vP3vUWRQ"
      },
      "source": [
        "lasso_weights = get_weights(lasso_reg, x_train, 'Lasso_Model_Weight')"
      ],
      "execution_count": 47,
      "outputs": []
    },
    {
      "cell_type": "code",
      "metadata": {
        "colab": {
          "base_uri": "https://localhost:8080/",
          "height": 855
        },
        "id": "3VkVaRw6UeHI",
        "outputId": "f156f549-7062-4d95-9f15-2c22f3d4bb1e"
      },
      "source": [
        "lasso_weights"
      ],
      "execution_count": 48,
      "outputs": [
        {
          "output_type": "execute_result",
          "data": {
            "text/html": [
              "<div>\n",
              "<style scoped>\n",
              "    .dataframe tbody tr th:only-of-type {\n",
              "        vertical-align: middle;\n",
              "    }\n",
              "\n",
              "    .dataframe tbody tr th {\n",
              "        vertical-align: top;\n",
              "    }\n",
              "\n",
              "    .dataframe thead th {\n",
              "        text-align: right;\n",
              "    }\n",
              "</style>\n",
              "<table border=\"1\" class=\"dataframe\">\n",
              "  <thead>\n",
              "    <tr style=\"text-align: right;\">\n",
              "      <th></th>\n",
              "      <th>Features</th>\n",
              "      <th>Lasso_Model_Weight</th>\n",
              "    </tr>\n",
              "  </thead>\n",
              "  <tbody>\n",
              "    <tr>\n",
              "      <th>0</th>\n",
              "      <td>Humidity outside</td>\n",
              "      <td>-0.049557</td>\n",
              "    </tr>\n",
              "    <tr>\n",
              "      <th>1</th>\n",
              "      <td>Humidity in teenager room 2</td>\n",
              "      <td>-0.000110</td>\n",
              "    </tr>\n",
              "    <tr>\n",
              "      <th>2</th>\n",
              "      <td>Temperature in kitchen area</td>\n",
              "      <td>0.000000</td>\n",
              "    </tr>\n",
              "    <tr>\n",
              "      <th>3</th>\n",
              "      <td>Tdewpoint</td>\n",
              "      <td>0.000000</td>\n",
              "    </tr>\n",
              "    <tr>\n",
              "      <th>4</th>\n",
              "      <td>Visibility</td>\n",
              "      <td>0.000000</td>\n",
              "    </tr>\n",
              "    <tr>\n",
              "      <th>5</th>\n",
              "      <td>Press_mm_hg</td>\n",
              "      <td>-0.000000</td>\n",
              "    </tr>\n",
              "    <tr>\n",
              "      <th>6</th>\n",
              "      <td>T_out</td>\n",
              "      <td>0.000000</td>\n",
              "    </tr>\n",
              "    <tr>\n",
              "      <th>7</th>\n",
              "      <td>Humidity in parents room</td>\n",
              "      <td>-0.000000</td>\n",
              "    </tr>\n",
              "    <tr>\n",
              "      <th>8</th>\n",
              "      <td>Temperature in parents room</td>\n",
              "      <td>-0.000000</td>\n",
              "    </tr>\n",
              "    <tr>\n",
              "      <th>9</th>\n",
              "      <td>Temperature in teenager room 2</td>\n",
              "      <td>0.000000</td>\n",
              "    </tr>\n",
              "    <tr>\n",
              "      <th>10</th>\n",
              "      <td>Humidity in ironing room</td>\n",
              "      <td>-0.000000</td>\n",
              "    </tr>\n",
              "    <tr>\n",
              "      <th>11</th>\n",
              "      <td>rv1</td>\n",
              "      <td>-0.000000</td>\n",
              "    </tr>\n",
              "    <tr>\n",
              "      <th>12</th>\n",
              "      <td>Temperature in ironing room</td>\n",
              "      <td>-0.000000</td>\n",
              "    </tr>\n",
              "    <tr>\n",
              "      <th>13</th>\n",
              "      <td>Temperature outside the building</td>\n",
              "      <td>0.000000</td>\n",
              "    </tr>\n",
              "    <tr>\n",
              "      <th>14</th>\n",
              "      <td>Humidity in bathroom</td>\n",
              "      <td>0.000000</td>\n",
              "    </tr>\n",
              "    <tr>\n",
              "      <th>15</th>\n",
              "      <td>Temperature in bathroom</td>\n",
              "      <td>-0.000000</td>\n",
              "    </tr>\n",
              "    <tr>\n",
              "      <th>16</th>\n",
              "      <td>Humidity in office room</td>\n",
              "      <td>0.000000</td>\n",
              "    </tr>\n",
              "    <tr>\n",
              "      <th>17</th>\n",
              "      <td>Temperature in office room</td>\n",
              "      <td>-0.000000</td>\n",
              "    </tr>\n",
              "    <tr>\n",
              "      <th>18</th>\n",
              "      <td>Humidity in laundry room area</td>\n",
              "      <td>0.000000</td>\n",
              "    </tr>\n",
              "    <tr>\n",
              "      <th>19</th>\n",
              "      <td>Temperature in laundry room area</td>\n",
              "      <td>0.000000</td>\n",
              "    </tr>\n",
              "    <tr>\n",
              "      <th>20</th>\n",
              "      <td>Humidity in living room area</td>\n",
              "      <td>-0.000000</td>\n",
              "    </tr>\n",
              "    <tr>\n",
              "      <th>21</th>\n",
              "      <td>Temperature in living room area</td>\n",
              "      <td>0.000000</td>\n",
              "    </tr>\n",
              "    <tr>\n",
              "      <th>22</th>\n",
              "      <td>Humidity outside the building</td>\n",
              "      <td>-0.000000</td>\n",
              "    </tr>\n",
              "    <tr>\n",
              "      <th>23</th>\n",
              "      <td>rv2</td>\n",
              "      <td>-0.000000</td>\n",
              "    </tr>\n",
              "    <tr>\n",
              "      <th>24</th>\n",
              "      <td>Windspeed</td>\n",
              "      <td>0.002912</td>\n",
              "    </tr>\n",
              "    <tr>\n",
              "      <th>25</th>\n",
              "      <td>Humidity in kitchen area</td>\n",
              "      <td>0.017880</td>\n",
              "    </tr>\n",
              "  </tbody>\n",
              "</table>\n",
              "</div>"
            ],
            "text/plain": [
              "                            Features  Lasso_Model_Weight\n",
              "0                   Humidity outside           -0.049557\n",
              "1        Humidity in teenager room 2           -0.000110\n",
              "2        Temperature in kitchen area            0.000000\n",
              "3                          Tdewpoint            0.000000\n",
              "4                         Visibility            0.000000\n",
              "5                        Press_mm_hg           -0.000000\n",
              "6                              T_out            0.000000\n",
              "7           Humidity in parents room           -0.000000\n",
              "8        Temperature in parents room           -0.000000\n",
              "9     Temperature in teenager room 2            0.000000\n",
              "10          Humidity in ironing room           -0.000000\n",
              "11                               rv1           -0.000000\n",
              "12       Temperature in ironing room           -0.000000\n",
              "13  Temperature outside the building            0.000000\n",
              "14              Humidity in bathroom            0.000000\n",
              "15           Temperature in bathroom           -0.000000\n",
              "16           Humidity in office room            0.000000\n",
              "17        Temperature in office room           -0.000000\n",
              "18     Humidity in laundry room area            0.000000\n",
              "19  Temperature in laundry room area            0.000000\n",
              "20      Humidity in living room area           -0.000000\n",
              "21   Temperature in living room area            0.000000\n",
              "22     Humidity outside the building           -0.000000\n",
              "23                               rv2           -0.000000\n",
              "24                         Windspeed            0.002912\n",
              "25          Humidity in kitchen area            0.017880"
            ]
          },
          "metadata": {},
          "execution_count": 48
        }
      ]
    },
    {
      "cell_type": "code",
      "metadata": {
        "id": "w6gfwlktUfqs"
      },
      "source": [
        "lasso_predict = lasso_reg.predict(x_test)"
      ],
      "execution_count": 49,
      "outputs": []
    },
    {
      "cell_type": "code",
      "metadata": {
        "colab": {
          "base_uri": "https://localhost:8080/"
        },
        "id": "0lWpwXIdUrbs",
        "outputId": "707d9fdd-abbb-4691-963d-3e4d59772723"
      },
      "source": [
        "rmse_lasso = np.sqrt(mean_squared_error(y_test, lasso_predict))\n",
        "print(round(rmse_lasso, 3))"
      ],
      "execution_count": 51,
      "outputs": [
        {
          "output_type": "stream",
          "name": "stdout",
          "text": [
            "0.094\n"
          ]
        }
      ]
    },
    {
      "cell_type": "code",
      "metadata": {
        "id": "H2hRlB_QU0WA"
      },
      "source": [
        ""
      ],
      "execution_count": null,
      "outputs": []
    }
  ]
}